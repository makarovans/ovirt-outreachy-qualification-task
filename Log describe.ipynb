{
 "cells": [
  {
   "cell_type": "code",
   "execution_count": 1,
   "metadata": {
    "collapsed": false,
    "deletable": true,
    "editable": true
   },
   "outputs": [],
   "source": [
    "%matplotlib inline\n",
    "import os\n",
    "import re\n",
    "import gc\n",
    "import random\n",
    "import numpy\n",
    "import pandas as pd\n",
    "import seaborn as sns\n",
    "from matplotlib import pyplot\n",
    "from datetime import datetime\n",
    "from progressbar import ProgressBar"
   ]
  },
  {
   "cell_type": "code",
   "execution_count": 2,
   "metadata": {
    "collapsed": false,
    "deletable": true,
    "editable": true
   },
   "outputs": [
    {
     "name": "stdout",
     "output_type": "stream",
     "text": [
      "2017-03-07 02:39:33.964+0000: 30192: info : virObjectRef:296 : OBJECT_REF: obj=0x7f8d1c000fb0\n"
     ]
    }
   ],
   "source": [
    "with open(\"logs/libvirtd.log\", \"r\") as log:\n",
    "    log_lines = [line.strip() for line in log.readlines()]\n",
    "    \n",
    "print(random.choice(log_lines))"
   ]
  },
  {
   "cell_type": "code",
   "execution_count": 221,
   "metadata": {
    "collapsed": false,
    "deletable": true,
    "editable": true
   },
   "outputs": [],
   "source": [
    "class LogMsg:\n",
    "    msg_type_normal_regex = {\n",
    "        # info\n",
    "        'virObjectRef': [\n",
    "            re.compile(r'^virObjectRef:[0-9]+:OBJECT_REF:obj=0x[0-9a-f]+$'),\n",
    "        ],\n",
    "        'virObjectUnref': [\n",
    "            re.compile(r'^virObjectUnref:[0-9]+:OBJECT_UNREF:obj=0x[0-9a-f]+$'),\n",
    "            re.compile(r'^virObjectUnref:[0-9]+:OBJECT_DISPOSE:obj=0x[0-9a-f]+$'),\n",
    "        ],\n",
    "        'virObjectNew': [\n",
    "            re.compile(r'^virObjectNew:[0-9]+:OBJECT_NEW:obj=0x[0-9a-f]+ classname=(vir|qemu)[A-Za-z]+$'),\n",
    "        ],\n",
    "        'qemuMonitorIOProcess': [\n",
    "            re.compile(r'^qemuMonitorIOProcess:[0-9]+:QEMU_MONITOR_IO_PROCESS:mon=0x[0-9a-f]+ buf=.+(\\n)*len=[0-9]+$'),\n",
    "            re.compile(r'^qemuMonitorIOProcess:[0-9]+:QEMU_MONITOR_IO_PROCESS:mon=0x[0-9a-f]+ buf=(.+\\n)+len=[0-9]+$'),\n",
    "        ],\n",
    "        'qemuMonitorIOWrite': [\n",
    "            re.compile(r'^qemuMonitorIOWrite:[0-9]+:QEMU_MONITOR_IO_WRITE:mon=0x[0-9a-f]+ buf=.+\\nlen=[0-9]+ ret=[0-9]+ errno=[0-9]+$'),\n",
    "            re.compile(r'^qemuMonitorIOWrite:[0-9]+:QEMU_MONITOR_IO_SEND_FD:mon=0x[0-9a-f]+ fd=[0-9]+ ret=[0-9]+ errno=[0-9]+'),\n",
    "        ],\n",
    "        'qemuMonitorSend': [\n",
    "            re.compile(r'^qemuMonitorSend:[0-9]+:QEMU_MONITOR_SEND_MSG:mon=0x[0-9a-f]+ msg={.+}\\nfd=[\\-0-9]'),\n",
    "        ],\n",
    "        'virFirewallApplyRule': [\n",
    "            re.compile(r\"^virFirewallApplyRule:[0-9]+:Applying rule '.*(.*\\n)*'$\"),\n",
    "            re.compile(r\"^virFirewallApplyRule:[0-9]+:Invoking query 0x[0-9a-f]+ with '.*(.*\\n)*'$\"),\n",
    "        ],\n",
    "        'virDBusCall': [\n",
    "            re.compile(r\"^virDBusCall:[0-9]+:DBUS_METHOD_CALL:'[a-zA-Z0-9\\.]+' on '[a-zA-Z0-9/]+' at '[a-zA-Z0-9\\.]+'$\"),\n",
    "            re.compile(r\"^virDBusCall:[0-9]+:DBUS_METHOD_REPLY:'[a-zA-Z0-9\\.]+' on '[a-zA-Z0-9/]+' at '[a-zA-Z0-9\\.]+'$\"),\n",
    "        ],\n",
    "        'virFirewallApplyGroup': [\n",
    "            re.compile(r\"^virFirewallApplyGroup:[0-9]+:Starting transaction for firewall=0x[0-9a-f]+ group=0x[0-9a-f]+ flags=[0-1]$\"),\n",
    "        ],\n",
    "        'virSecuritySELinuxSetFileconHelper': [\n",
    "            re.compile(r\"^virSecuritySELinuxSetFileconHelper:[0-9]+:Setting SELinux context on '[a-zA-Z0-9\\.\\-/]+' to '[a-z_:0-9,]+'$\"),\n",
    "        ],\n",
    "        'virSecurityDACSetOwnershipInternal': [\n",
    "            re.compile(r\"^virSecurityDACSetOwnershipInternal:[0-9]+:Setting DAC user and group on '[a-zA-Z0-9\\.\\-/]+' to '[:0-9]+'$\"),\n",
    "        ],\n",
    "        'virNetDevProbeVnetHdr': [\n",
    "            re.compile(r'^virNetDevProbeVnetHdr:[0-9]+:Enabling IFF_VNET_HDR$'),\n",
    "        ],\n",
    "        'qemuMonitorClose': [\n",
    "            re.compile(r'^qemuMonitorClose:[0-9]+:QEMU_MONITOR_CLOSE:mon=0x[0-9a-f]+ refs=[0-9]+$'),\n",
    "        ],\n",
    "        'qemuMonitorOpenInternal': [\n",
    "            re.compile(r'^qemuMonitorOpenInternal:[0-9]+:QEMU_MONITOR_NEW:mon=0x[0-9a-f]+ refs=[0-9]+ fd=[0-9]+$'),\n",
    "        ],\n",
    "        # debug\n",
    "        'virAccessManagerCheckConnect': [\n",
    "            re.compile(r'^virAccessManagerCheckConnect:[0-9]+:manager=0x[0-9a-f]+\\(name=(stack|none)\\) driver=QEMU perm=[0-9]+$'),\n",
    "        ],\n",
    "        'virAccessManagerCheckDomain': [\n",
    "            re.compile(r'^virAccessManagerCheckDomain:[0-9]+:manager=0x[0-9a-f]+\\(name=(stack|none)\\) driver=QEMU domain=0x[0-9a-f]+ perm=[0-9]+$'),\n",
    "        ],\n",
    "        'virThreadJobClear': [\n",
    "            re.compile(r'^virThreadJobClear:[0-9]+:Thread [0-9]+ \\(virNetServerHandleJob\\) finished job [a-zA-Z0-9]+ with ret=0$'),\n",
    "        ],\n",
    "        'virThreadJobSet': [\n",
    "            re.compile(r'^virThreadJobSet:[0-9]+:Thread [0-9]+ \\(virNetServerHandleJob\\) is now running job [a-zA-Z0-9]+$'),\n",
    "        ],\n",
    "        'qemuDomainObjBeginJobInternal': [\n",
    "            re.compile(r'^qemuDomainObjBeginJobInternal:[0-9]+:Starting job:query \\(vm=0x[0-9a-f]+ name=[a-zA-Z0-9]+, current job=(none|query) async=none\\)$'),\n",
    "            re.compile(r'^qemuDomainObjBeginJobInternal:[0-9]+:Started job:query \\(async=none vm=0x[0-9a-f]+ name=[a-zA-Z0-9]+\\)$'),\n",
    "            re.compile(r'^qemuDomainObjBeginJobInternal:[0-9]+:Waiting for job \\(vm=0x[0-9a-f]+ name=[a-zA-Z0-9]+\\)$'),\n",
    "            re.compile(r'^qemuDomainObjBeginJobInternal:[0-9]+:Starting job:migration operation \\(vm=0x[0-9a-f]+ name=[a-zA-Z0-9]+, current job=(none|query) async=none\\)$'),\n",
    "            re.compile(r'^qemuDomainObjBeginJobInternal:[0-9]+:Started job:migration operation \\(async=none vm=0x[0-9a-f]+ name=[a-zA-Z0-9]+\\)$'),\n",
    "        ],\n",
    "        'virDomainDispose': [\n",
    "            re.compile(r'^virDomainDispose:[0-9]+:release domain 0x[0-9a-f]+ [a-zA-Z0-9]+ [a-f0-9\\-]+$'),\n",
    "        ],\n",
    "        'virFileClose': [\n",
    "            re.compile(r'^virFileClose:[0-9]+:Closed fd [1-9][0-9]*\\n{0,1}\\'{0,1}$'),\n",
    "        ],\n",
    "        'qemuDomainObjEndJob': [\n",
    "            re.compile(r'^qemuDomainObjEndJob:[0-9]+:Stopping job:query \\(async=none vm=0x[0-9a-f]+ name=[a-zA-Z0-9]+\\)$'),\n",
    "            re.compile(r'^qemuDomainObjEndJob:[0-9]+:Stopping job:migration operation \\(async=none vm=0x[0-9a-f]+ name=[a-zA-Z0-9]+\\)$'),\n",
    "        ],\n",
    "        'virCgroupGetValueStr': [\n",
    "            re.compile(r'^virCgroupGetValueStr:[0-9]+:Get value [/\\\\a-zA-Z0-9,\\-\\.]+$'),\n",
    "        ],\n",
    "        'qemuDomainObjExitMonitorInternal': [\n",
    "            re.compile(r'^qemuDomainObjExitMonitorInternal:[0-9]+:Exited monitor \\(mon=0x[0-9a-f]+ vm=0x[0-9a-f]+ name=[a-zA-Z0-9]+\\)$'),\n",
    "        ],\n",
    "        'qemuDomainObjEnterMonitorInternal': [\n",
    "            re.compile(r'^qemuDomainObjEnterMonitorInternal:[0-9]+:Entering monitor \\(mon=0x[0-9a-f]+ vm=0x[0-9a-f]+ name=[a-zA-Z0-9]+\\)$'),\n",
    "        ],\n",
    "        'qemuMonitorBlockStatsUpdateCapacity': [\n",
    "            re.compile(r'^qemuMonitorBlockStatsUpdateCapacity:[0-9]+:stats=0x[0-9a-f]+, backing=0$'),\n",
    "            re.compile(r'^qemuMonitorBlockStatsUpdateCapacity:[0-9]+:mon:0x[0-9a-f]+ vm:0x[0-9a-f]+ json:1 fd:[1-9][0-9]*$'),\n",
    "        ],\n",
    "        'qemuMonitorGetAllBlockStatsInfo': [\n",
    "            re.compile(r'^qemuMonitorGetAllBlockStatsInfo:[0-9]+:ret_stats=0x[0-9a-f]+, backing=0$'),\n",
    "            re.compile(r'^qemuMonitorGetAllBlockStatsInfo:[0-9]+:mon:0x[0-9a-f]+ vm:0x[0-9a-f]+ json:1 fd:[1-9][0-9]*$'),\n",
    "        ],\n",
    "        'virConnectSupportsFeature': [\n",
    "            re.compile(r'^virConnectSupportsFeature:[0-9]+:conn=0x[0-9a-f]+, feature=[0-9]+$'),\n",
    "        ],\n",
    "        'qemuMonitorGetBlockIoThrottle': [\n",
    "            re.compile(r'^qemuMonitorGetBlockIoThrottle:[0-9]+:device=0x[0-9a-f]+, reply=0x[0-9a-f]+$'),\n",
    "            re.compile(r'^qemuMonitorGetBlockIoThrottle:[0-9]+:mon:0x[0-9a-f]+ vm:0x[0-9a-f]+ json:1 fd:[1-9][0-9]*$'),\n",
    "        ],\n",
    "        'qemuGetProcessInfo': [\n",
    "            re.compile(r'^qemuGetProcessInfo:[0-9]+:Got status for [0-9]+/[0-9]+ user=[0-9]+ sys=[0-9]+ cpu=[0-9]+ rss=[0-9]+$'),\n",
    "        ],\n",
    "        'virDomainFree': [\n",
    "            re.compile(r'^virDomainFree:[0-9]+:dom=0x[0-9a-f]+, \\(VM:name=[a-zA-Z0-9]+, uuid=[a-f0-9\\-]+\\)$'),\n",
    "        ],\n",
    "        'virDomainGetBlockIoTune': [\n",
    "            re.compile(r'^virDomainGetBlockIoTune:[0-9]+:dom=0x[0-9a-f]+, \\(VM:name=[a-zA-Z0-9]+, uuid=[a-f0-9\\-]+\\), disk=sda, params=(\\(nil\\)|0x[0-9a-f]+), nparams=[0-9]+, flags=[0-9]+$'),\n",
    "        ],\n",
    "        'virDomainGetMetadata': [\n",
    "            re.compile(r'^virDomainGetMetadata:[0-9]+:dom=0x[0-9a-f]+, \\(VM:name=[a-zA-Z0-9]+, uuid=[a-f0-9\\-]+\\), type=[0-9]+, uri=\\'http://[a-z0-9\\./]+\\', flags=[0-9]+$'),\n",
    "        ],\n",
    "        'virNodeGetMemoryStats': [\n",
    "            re.compile(r'^virNodeGetMemoryStats:[0-9]+:conn=0x[0-9a-f]+, cellNum=0, params=(\\(nil\\)|0x[0-9a-f]+), nparams=[0-9]+, flags=[0-9]+$'),\n",
    "        ],\n",
    "        'virConnectGetAllDomainStats': [\n",
    "            re.compile(r'^virConnectGetAllDomainStats:[0-9]+:conn=0x[0-9a-f]+, stats=0x0, retStats=0x[0-9a-f]+, flags=0x0$'),\n",
    "        ],\n",
    "        'virDomainGetControlInfo': [\n",
    "            re.compile(r'^virDomainGetControlInfo:[0-9]+:dom=0x[0-9a-f]+, \\(VM:name=[a-zA-Z0-9]+, uuid=[a-f0-9\\-]+\\), info=0x[0-9a-f]+, flags=[0-9]+$'),\n",
    "        ],\n",
    "        'virAccessManagerCheckNodeDevice': [\n",
    "            re.compile(r'^virAccessManagerCheckNodeDevice:[0-9]+:manager=0x[0-9a-f]+\\(name=(none|stack)\\) driver=QEMU nodedev=0x[0-9a-f]+ perm=0$'),\n",
    "        ],\n",
    "        'virNodeDeviceDispose': [\n",
    "            re.compile(r'^virNodeDeviceDispose:[0-9]+:release dev 0x[0-9a-f]+ [a-zA-Z0-9_]+$'),\n",
    "        ],\n",
    "        'virCgroupDetect': [\n",
    "            re.compile(r'^virCgroupDetect:[0-9]+:group=0x[0-9a-f]+ controllers=(-1|[0-9]+) path= parent=\\(nil\\)$'),\n",
    "            re.compile(r'^virCgroupDetect:[0-9]+:Auto-detecting controllers$'),\n",
    "            re.compile(r'^virCgroupDetect:[0-9]+:Controller \\'(name=){0,1}[a-z_]+\\' present=yes$'),\n",
    "            re.compile(r'^virCgroupDetect:[0-9]+:Detected mount/mapping (0:cpu|1:cpuacct) at [/a-z,]+ in [0-9a-zA-Z\\.\\\\/\\-]+ for pid [0-9]+$'),\n",
    "        ],\n",
    "        'virAccessManagerCheckNodeDevice': [\n",
    "            re.compile(r'^virAccessManagerCheckNodeDevice:[0-9]+:manager=0x[0-9a-f]+\\(name=(stack|none)\\) driver=QEMU nodedev=0x[0-9a-f]+ perm=[0-1]$'),\n",
    "        ],\n",
    "        'virNodeDeviceLookupByName': [\n",
    "            re.compile(r'^virNodeDeviceLookupByName:[0-9]+:conn=0x[0-9a-f]+, name=[a-zA-Z0-9_]+$'),\n",
    "        ],\n",
    "        'virCgroupMakeGroup': [\n",
    "            re.compile(r'^virCgroupMakeGroup:[0-9]+:Make group [/,a-zA-Z0-9\\.\\\\\\-_]+$'),\n",
    "            re.compile(r'^virCgroupMakeGroup:[0-9]+:Make controller [/,a-zA-Z0-9\\.\\\\\\-_]+$'),\n",
    "            re.compile(r'^virCgroupMakeGroup:[0-9]+:Done making controllers for group$'),\n",
    "        ],\n",
    "        'virCommandRunAsync': [\n",
    "            re.compile(r'^virCommandRunAsync:[0-9]+:About to run .+$'),\n",
    "            re.compile(r'^virCommandRunAsync:[0-9]+:Command result 0, with PID [0-9]+$'),\n",
    "        ],\n",
    "        'virCommandRun': [\n",
    "            re.compile(r'^virCommandRun:[0-9]+:Result (exit ){0,1}status 0, stdout:\\'.*\\' stderr:\\'.*(\\'){0,1}$', re.DOTALL),\n",
    "        ],\n",
    "        'virNodeDeviceGetXMLDesc': [\n",
    "            re.compile(r'^virNodeDeviceGetXMLDesc:[0-9]+:dev=0x[0-9a-f]+, conn=0x[0-9a-f]+, flags=[0-9]+$'),\n",
    "        ],\n",
    "        'virDomainGetInfo': [\n",
    "            re.compile(r'^virDomainGetInfo:[0-9]+:dom=0x[0-9a-f]+, \\(VM:name=[a-zA-Z0-9]+, uuid=[a-f0-9\\-]+\\), info=0x[0-9a-f]+$'),\n",
    "        ],\n",
    "        'virNodeGetCPUMap': [\n",
    "            re.compile(r'^virNodeGetCPUMap:[0-9]+:conn=0x[0-9a-f]+, cpumap=\\(nil\\), online=\\(nil\\), flags=0$'),\n",
    "        ],\n",
    "    }\n",
    "\n",
    "    error_regex = [\n",
    "        re.compile(r\"error\", re.IGNORECASE),\n",
    "        re.compile(r\"not \", re.IGNORECASE),\n",
    "        re.compile(r\"doesn't\", re.IGNORECASE),\n",
    "        re.compile(r\"\\\"[a-zA-Z_]*invalid[a-zA-Z_]*\\\":[-1-9]+\", re.IGNORECASE),\n",
    "        re.compile(r\"\\\"[a-zA-Z_]*invalid[a-zA-Z_]*\\\":true\", re.IGNORECASE),\n",
    "        re.compile(r\"invalid\", re.IGNORECASE),\n",
    "        re.compile(r\"\\\"[a-zA-Z_]*failed[a-zA-Z_]*\\\":[-1-9]+\", re.IGNORECASE),\n",
    "        re.compile(r\"\\\"[a-zA-Z_]*failed[a-zA-Z_]*\\\":true\", re.IGNORECASE),\n",
    "        re.compile(r\"fail\", re.IGNORECASE),\n",
    "        re.compile(r\"fatal\", re.IGNORECASE),\n",
    "    ]\n",
    "\n",
    "    def __init__(self):\n",
    "        self.msg = None\n",
    "        self.type = None\n",
    "        self.suspicious_level = 'Mismatch normal'\n",
    "        self.error_contains = False\n",
    "        self.error_pos = []\n",
    "\n",
    "    def parse(self, line):\n",
    "        self.msg = line\n",
    "        self.type = line.split(':')[0]\n",
    "        if self.type not in LogMsg.msg_type_normal_regex:\n",
    "            self.suspicious_level = 'Unknown message type'\n",
    "        else:\n",
    "            for regex in LogMsg.msg_type_normal_regex[self.type]:\n",
    "                if regex.match(self.msg):\n",
    "                    self.suspicious_level = 'Good'\n",
    "\n",
    "        for error_regex in LogMsg.error_regex:\n",
    "            if error_regex.search(self.msg):\n",
    "                self.error_contains = True\n",
    "                self.error_pos.extend([match for match in error_regex.finditer(self.msg)])\n",
    "        return self\n",
    "\n",
    "    def to_error_str(self):\n",
    "        pos = 0\n",
    "        result = ''\n",
    "        for match in sorted(self.error_pos, key=lambda x: x.start()):\n",
    "            if pos >= match.end():\n",
    "                continue\n",
    "            if pos < match.start():\n",
    "                result += self.msg[pos:match.start()]\n",
    "                pos = match.start()\n",
    "            result += TextColor.BOLD + TextColor.RED + self.msg[pos:match.end()] + TextColor.END\n",
    "            pos = match.end()\n",
    "        if pos < len(self.msg):\n",
    "            result += self.msg[pos:]\n",
    "        return result.replace('\\n', '\\\\n')\n",
    "\n",
    "    def __str__(self):\n",
    "        return self.msg"
   ]
  },
  {
   "cell_type": "code",
   "execution_count": 4,
   "metadata": {
    "collapsed": true
   },
   "outputs": [],
   "source": [
    "class CommonLogItem:\n",
    "    def __init__(self):\n",
    "        self.line_index = None\n",
    "        self.date = None\n",
    "        self.thread = None\n",
    "        self.level = None\n",
    "        self.msg = None\n",
    "\n",
    "    def parse(self, line, ind):\n",
    "        # Set line index\n",
    "        self.line_index = ind\n",
    "        # Parse datetime\n",
    "        try:\n",
    "            self.date = datetime.strptime(line[:28], \"%Y-%m-%d %H:%M:%S.%f%z\")\n",
    "            line = line[29:]\n",
    "        except:\n",
    "            raise Exception(\"Cannot parse datetime in {}\".format(line))\n",
    "        # Split log line\n",
    "        splits = [item.strip() for item in line.split(':')]\n",
    "        # Parse log code\n",
    "        if self.date and len(splits) > 1:\n",
    "            if re.match(r'[0-9]+', splits[0]):\n",
    "                self.thread = splits[0]\n",
    "                splits = splits[1:]\n",
    "            else:\n",
    "                raise Exception(\"Cannot parse thread in {}\".format(splits[0]))\n",
    "        if self.thread and len(splits) > 1:\n",
    "            if splits[0] in ['debug', 'info']:\n",
    "                self.level = splits[0]\n",
    "                splits = splits[1:]\n",
    "            else:\n",
    "                raise Exception(\"Cannot parse log type in {}\".format(splits[0]))\n",
    "        self.msg = LogMsg().parse(':'.join(splits))\n",
    "        return self"
   ]
  },
  {
   "cell_type": "code",
   "execution_count": 5,
   "metadata": {
    "collapsed": true
   },
   "outputs": [],
   "source": [
    "class LogParser:\n",
    "    def __init__(self):\n",
    "        pass\n",
    "\n",
    "    def parse(self, line, ind):\n",
    "        return CommonLogItem().parse(line, ind)"
   ]
  },
  {
   "cell_type": "code",
   "execution_count": 6,
   "metadata": {
    "collapsed": false
   },
   "outputs": [
    {
     "name": "stderr",
     "output_type": "stream",
     "text": [
      " 99% (1511752 of 1513373) |############### | Elapsed Time: 0:00:45 ETA: 0:00:00\n"
     ]
    }
   ],
   "source": [
    "process_lines = []\n",
    "bar = ProgressBar(max_value=len(log_lines))\n",
    "for i, line in enumerate(log_lines):\n",
    "    try:\n",
    "        date = datetime.strptime(line[:28], \"%Y-%m-%d %H:%M:%S.%f%z\")\n",
    "        process_lines.append((line, i + 1))\n",
    "    except:\n",
    "        process_lines[-1] = (process_lines[-1][0] + '\\n' + line, process_lines[-1][1])\n",
    "    bar.update(i)\n",
    "bar.finish()\n",
    "del log_lines"
   ]
  },
  {
   "cell_type": "code",
   "execution_count": 222,
   "metadata": {
    "collapsed": false,
    "deletable": true,
    "editable": true,
    "scrolled": true
   },
   "outputs": [
    {
     "name": "stderr",
     "output_type": "stream",
     "text": [
      " 99% (1450915 of 1451423) |############### | Elapsed Time: 0:02:12 ETA: 0:00:00\n"
     ]
    }
   ],
   "source": [
    "parser = LogParser()\n",
    "bar = ProgressBar(max_value=len(process_lines))\n",
    "logs = []\n",
    "for i, (line, ind) in enumerate(process_lines):\n",
    "    logs.append(parser.parse(line, ind))\n",
    "    bar.update(i)\n",
    "bar.finish()\n",
    "# del process_lines"
   ]
  },
  {
   "cell_type": "code",
   "execution_count": 223,
   "metadata": {
    "collapsed": false,
    "deletable": true,
    "editable": true
   },
   "outputs": [
    {
     "data": {
      "text/html": [
       "<div>\n",
       "<table border=\"1\" class=\"dataframe\">\n",
       "  <thead>\n",
       "    <tr style=\"text-align: right;\">\n",
       "      <th></th>\n",
       "      <th>line_index</th>\n",
       "      <th>date</th>\n",
       "      <th>thread</th>\n",
       "      <th>level</th>\n",
       "      <th>msg</th>\n",
       "      <th>msg_type</th>\n",
       "      <th>suspicious_level</th>\n",
       "      <th>error_contains</th>\n",
       "    </tr>\n",
       "  </thead>\n",
       "  <tbody>\n",
       "    <tr>\n",
       "      <th>0</th>\n",
       "      <td>1</td>\n",
       "      <td>2017-03-07 01:38:18.929000+00:00</td>\n",
       "      <td>30192</td>\n",
       "      <td>info</td>\n",
       "      <td>virObjectRef:296:OBJECT_REF:obj=0x7f8d75667970</td>\n",
       "      <td>virObjectRef</td>\n",
       "      <td>Good</td>\n",
       "      <td>False</td>\n",
       "    </tr>\n",
       "    <tr>\n",
       "      <th>1</th>\n",
       "      <td>2</td>\n",
       "      <td>2017-03-07 01:38:18.929000+00:00</td>\n",
       "      <td>30192</td>\n",
       "      <td>info</td>\n",
       "      <td>virObjectRef:296:OBJECT_REF:obj=0x7f8d7535a390</td>\n",
       "      <td>virObjectRef</td>\n",
       "      <td>Good</td>\n",
       "      <td>False</td>\n",
       "    </tr>\n",
       "    <tr>\n",
       "      <th>2</th>\n",
       "      <td>3</td>\n",
       "      <td>2017-03-07 01:38:18.929000+00:00</td>\n",
       "      <td>30195</td>\n",
       "      <td>info</td>\n",
       "      <td>virObjectRef:296:OBJECT_REF:obj=0x7f8d50000cf0</td>\n",
       "      <td>virObjectRef</td>\n",
       "      <td>Good</td>\n",
       "      <td>False</td>\n",
       "    </tr>\n",
       "    <tr>\n",
       "      <th>3</th>\n",
       "      <td>4</td>\n",
       "      <td>2017-03-07 01:38:18.929000+00:00</td>\n",
       "      <td>30195</td>\n",
       "      <td>info</td>\n",
       "      <td>virObjectRef:296:OBJECT_REF:obj=0x7f8d50000cf0</td>\n",
       "      <td>virObjectRef</td>\n",
       "      <td>Good</td>\n",
       "      <td>False</td>\n",
       "    </tr>\n",
       "    <tr>\n",
       "      <th>4</th>\n",
       "      <td>5</td>\n",
       "      <td>2017-03-07 01:38:18.929000+00:00</td>\n",
       "      <td>30195</td>\n",
       "      <td>debug</td>\n",
       "      <td>virThreadJobSet:96:Thread 30195 (virNetServerH...</td>\n",
       "      <td>virThreadJobSet</td>\n",
       "      <td>Good</td>\n",
       "      <td>False</td>\n",
       "    </tr>\n",
       "  </tbody>\n",
       "</table>\n",
       "</div>"
      ],
      "text/plain": [
       "   line_index                             date thread  level  \\\n",
       "0           1 2017-03-07 01:38:18.929000+00:00  30192   info   \n",
       "1           2 2017-03-07 01:38:18.929000+00:00  30192   info   \n",
       "2           3 2017-03-07 01:38:18.929000+00:00  30195   info   \n",
       "3           4 2017-03-07 01:38:18.929000+00:00  30195   info   \n",
       "4           5 2017-03-07 01:38:18.929000+00:00  30195  debug   \n",
       "\n",
       "                                                 msg         msg_type  \\\n",
       "0     virObjectRef:296:OBJECT_REF:obj=0x7f8d75667970     virObjectRef   \n",
       "1     virObjectRef:296:OBJECT_REF:obj=0x7f8d7535a390     virObjectRef   \n",
       "2     virObjectRef:296:OBJECT_REF:obj=0x7f8d50000cf0     virObjectRef   \n",
       "3     virObjectRef:296:OBJECT_REF:obj=0x7f8d50000cf0     virObjectRef   \n",
       "4  virThreadJobSet:96:Thread 30195 (virNetServerH...  virThreadJobSet   \n",
       "\n",
       "  suspicious_level error_contains  \n",
       "0             Good          False  \n",
       "1             Good          False  \n",
       "2             Good          False  \n",
       "3             Good          False  \n",
       "4             Good          False  "
      ]
     },
     "execution_count": 223,
     "metadata": {},
     "output_type": "execute_result"
    }
   ],
   "source": [
    "df = pd.DataFrame()\n",
    "df['line_index'] = [log.line_index for log in logs]\n",
    "df['date'] = [log.date for log in logs]\n",
    "df['thread'] = [log.thread for log in logs]\n",
    "df['level'] = [log.level for log in logs]\n",
    "df['msg'] = [log.msg for log in logs]\n",
    "df['msg_type'] = [log.msg.type for log in logs]\n",
    "df['suspicious_level'] = [log.msg.suspicious_level for log in logs]\n",
    "df['error_contains'] = [log.msg.error_contains for log in logs]\n",
    "del logs\n",
    "df.head()"
   ]
  },
  {
   "cell_type": "code",
   "execution_count": 224,
   "metadata": {
    "collapsed": false,
    "deletable": true,
    "editable": true
   },
   "outputs": [
    {
     "data": {
      "text/plain": [
       "Good                    467030\n",
       "Unknown message type      3346\n",
       "Mismatch normal           1313\n",
       "Name: suspicious_level, dtype: int64"
      ]
     },
     "execution_count": 224,
     "metadata": {},
     "output_type": "execute_result"
    }
   ],
   "source": [
    "df[df.level == \"debug\"].suspicious_level.value_counts(dropna=False)"
   ]
  },
  {
   "cell_type": "code",
   "execution_count": 9,
   "metadata": {
    "collapsed": false,
    "deletable": true,
    "editable": true
   },
   "outputs": [
    {
     "data": {
      "image/png": "[encoded data removed]",
      "text/plain": [
       "<matplotlib.figure.Figure at 0x7ff56da05588>"
      ]
     },
     "metadata": {},
     "output_type": "display_data"
    }
   ],
   "source": [
    "_, ax = pyplot.subplots(figsize=(15, 10))\n",
    "g = sns.countplot(data=df[df.thread.astype(int) > 30000], x='thread', hue='error_contains', ax=ax)\n",
    "for item in g.get_yticklabels():\n",
    "    item.set_rotation(45)\n",
    "pyplot.show()"
   ]
  },
  {
   "cell_type": "code",
   "execution_count": 225,
   "metadata": {
    "collapsed": false,
    "deletable": true,
    "editable": true,
    "scrolled": false
   },
   "outputs": [
    {
     "data": {
      "text/plain": [
       "virDBusMessageIterEncode                  406\n",
       "virCgroupDetect                           336\n",
       "virCommandRun                             264\n",
       "virFileClose                              264\n",
       "virFirewallApplyRuleDirect                264\n",
       "virDomainGetVcpus                         165\n",
       "qemuDomainObjBeginJobInternal             157\n",
       "virCgroupMakeGroup                        156\n",
       "virDomainPCIAddressReserveAddr            120\n",
       "virCgroupSetValueStr                      118\n",
       "virPCIGetDeviceAddressFromSysfsLink       108\n",
       "virPCIGetVirtualFunctions                 108\n",
       "virQEMUCapsCacheLookup                    101\n",
       "cpuDecode                                  93\n",
       "virAccessManagerCheckNetwork               90\n",
       "qemuProcessLaunch                          90\n",
       "virDomainPCIAddressGetNextSlot             89\n",
       "qemuDomainObjEndJob                        74\n",
       "ebtablesRenameTmpSubAndRootChainsQuery     60\n",
       "virCgroupGetValueStr                       57\n",
       "virFileMakePathHelper                      50\n",
       "virTimeBackOffWait                         48\n",
       "virNetworkDispose                          45\n",
       "ebtablesRemoveSubChainsQuery               40\n",
       "virNetlinkEventCallback                    40\n",
       "virLockManagerLogParams                    40\n",
       "qemuMonitorEmitEvent                       36\n",
       "virCgroupCpuSetInherit                     36\n",
       "qemuProcessHandleEvent                     36\n",
       "virDBusTypeStackPush                       33\n",
       "                                         ... \n",
       "qemuMigrationStoreDomainState               1\n",
       "virLockManagerRelease                       1\n",
       "virDomainUpdateDeviceFlags                  1\n",
       "virDomainLockProcessPause                   1\n",
       "qemuDomainChangeGraphics                    1\n",
       "virCloseCallbacksRun                        1\n",
       "virConnectOpen                              1\n",
       "qemuMigrationFinish                         1\n",
       "virThreadJobSetWorker                       1\n",
       "qemuMonitorEmitSpiceMigrated                1\n",
       "virConnectSetKeepAlive                      1\n",
       "virConnectListAllNodeDevices                1\n",
       "virSecuritySELinuxSetSocketLabel            1\n",
       "qemuMigrationRestoreDomainState             1\n",
       "doNativeMigrate                             1\n",
       "qemuMigrationConfirmPhase                   1\n",
       "qemuProcessAutoDestroyAdd                   1\n",
       "daemonRemoveAllClientStreams                1\n",
       "virLockManagerInquire                       1\n",
       "qemuMigrationBeginPhase                     1\n",
       "virCloseCallbacksSet                        1\n",
       "qemuMigrationPerform                        1\n",
       "qemuMonitorGetMigrationStats                1\n",
       "virConnectClose                             1\n",
       "virLockManagerPluginUsesState               1\n",
       "qemuMigrationWaitForDestCompletion          1\n",
       "virLockManagerPluginGetName                 1\n",
       "qemuDomainObjReleaseAsyncJob                1\n",
       "virDomainMigrateSetMaxDowntime              1\n",
       "virLockManagerSanlockInquire                1\n",
       "Name: msg_type, dtype: int64"
      ]
     },
     "execution_count": 225,
     "metadata": {},
     "output_type": "execute_result"
    }
   ],
   "source": [
    "df.query(\"level == 'debug' and suspicious_level != 'Good'\").msg_type.value_counts()\n",
    "# for line in df.query(\"type == 'debug' and msg_type == 'virFirewallApplyRule' and suspicious_level != 'Good'\").msg:\n",
    "#     print('\\x1b[31m', repr(str(line)), '\\x1b[0m')\n",
    "#     break\n",
    "# df.query(\"type == 'debug' and suspicious_level == 'Unmatch normal'\").msg_type.value_counts()"
   ]
  },
  {
   "cell_type": "code",
   "execution_count": 230,
   "metadata": {
    "collapsed": false
   },
   "outputs": [
    {
     "name": "stdout",
     "output_type": "stream",
     "text": [
      "'virAccessManagerCheckNetwork:264:manager=0x7f8d75345ca0(name=stack) driver=QEMU network=0x7f8d753802d0 perm=0'\n",
      "'virAccessManagerCheckNetwork:264:manager=0x7f8d75345d90(name=none) driver=QEMU network=0x7f8d753802d0 perm=0'\n",
      "'virAccessManagerCheckNetwork:264:manager=0x7f8d75345ca0(name=stack) driver=QEMU network=0x7f8d7537e6e0 perm=0'\n",
      "'virAccessManagerCheckNetwork:264:manager=0x7f8d75345d90(name=none) driver=QEMU network=0x7f8d7537e6e0 perm=0'\n",
      "'virAccessManagerCheckNetwork:264:manager=0x7f8d75345ca0(name=stack) driver=QEMU network=0x7f8d753744c0 perm=0'\n",
      "'virAccessManagerCheckNetwork:264:manager=0x7f8d75345d90(name=none) driver=QEMU network=0x7f8d753744c0 perm=0'\n",
      "'virAccessManagerCheckNetwork:264:manager=0x7f8d75345ca0(name=stack) driver=QEMU network=0x7f8d75380530 perm=0'\n",
      "'virAccessManagerCheckNetwork:264:manager=0x7f8d75345d90(name=none) driver=QEMU network=0x7f8d75380530 perm=0'\n",
      "'virAccessManagerCheckNetwork:264:manager=0x7f8d75345ca0(name=stack) driver=QEMU network=0x7f8d753778a0 perm=0'\n",
      "'virAccessManagerCheckNetwork:264:manager=0x7f8d75345d90(name=none) driver=QEMU network=0x7f8d753778a0 perm=0'\n",
      "'virAccessManagerCheckNetwork:264:manager=0x7f8d75345ca0(name=stack) driver=QEMU network=0x7f8d753802d0 perm=1'\n",
      "'virAccessManagerCheckNetwork:264:manager=0x7f8d75345d90(name=none) driver=QEMU network=0x7f8d753802d0 perm=1'\n",
      "'virAccessManagerCheckNetwork:264:manager=0x7f8d75345ca0(name=stack) driver=QEMU network=0x7f8d753744c0 perm=1'\n",
      "'virAccessManagerCheckNetwork:264:manager=0x7f8d75345d90(name=none) driver=QEMU network=0x7f8d753744c0 perm=1'\n",
      "'virAccessManagerCheckNetwork:264:manager=0x7f8d75345ca0(name=stack) driver=QEMU network=0x7f8d75380530 perm=1'\n",
      "'virAccessManagerCheckNetwork:264:manager=0x7f8d75345d90(name=none) driver=QEMU network=0x7f8d75380530 perm=1'\n",
      "'virAccessManagerCheckNetwork:264:manager=0x7f8d75345ca0(name=stack) driver=QEMU network=0x7f8d753778a0 perm=1'\n",
      "'virAccessManagerCheckNetwork:264:manager=0x7f8d75345d90(name=none) driver=QEMU network=0x7f8d753778a0 perm=1'\n",
      "'virAccessManagerCheckNetwork:264:manager=0x7f8d75345ca0(name=stack) driver=QEMU network=0x7f8d753802d0 perm=0'\n",
      "'virAccessManagerCheckNetwork:264:manager=0x7f8d75345d90(name=none) driver=QEMU network=0x7f8d753802d0 perm=0'\n",
      "'virAccessManagerCheckNetwork:264:manager=0x7f8d75345ca0(name=stack) driver=QEMU network=0x7f8d7537e6e0 perm=0'\n",
      "'virAccessManagerCheckNetwork:264:manager=0x7f8d75345d90(name=none) driver=QEMU network=0x7f8d7537e6e0 perm=0'\n",
      "'virAccessManagerCheckNetwork:264:manager=0x7f8d75345ca0(name=stack) driver=QEMU network=0x7f8d753744c0 perm=0'\n",
      "'virAccessManagerCheckNetwork:264:manager=0x7f8d75345d90(name=none) driver=QEMU network=0x7f8d753744c0 perm=0'\n",
      "'virAccessManagerCheckNetwork:264:manager=0x7f8d75345ca0(name=stack) driver=QEMU network=0x7f8d75380530 perm=0'\n",
      "'virAccessManagerCheckNetwork:264:manager=0x7f8d75345d90(name=none) driver=QEMU network=0x7f8d75380530 perm=0'\n",
      "'virAccessManagerCheckNetwork:264:manager=0x7f8d75345ca0(name=stack) driver=QEMU network=0x7f8d753778a0 perm=0'\n",
      "'virAccessManagerCheckNetwork:264:manager=0x7f8d75345d90(name=none) driver=QEMU network=0x7f8d753778a0 perm=0'\n",
      "'virAccessManagerCheckNetwork:264:manager=0x7f8d75345ca0(name=stack) driver=QEMU network=0x7f8d753802d0 perm=1'\n",
      "'virAccessManagerCheckNetwork:264:manager=0x7f8d75345d90(name=none) driver=QEMU network=0x7f8d753802d0 perm=1'\n",
      "'virAccessManagerCheckNetwork:264:manager=0x7f8d75345ca0(name=stack) driver=QEMU network=0x7f8d753744c0 perm=1'\n",
      "'virAccessManagerCheckNetwork:264:manager=0x7f8d75345d90(name=none) driver=QEMU network=0x7f8d753744c0 perm=1'\n",
      "'virAccessManagerCheckNetwork:264:manager=0x7f8d75345ca0(name=stack) driver=QEMU network=0x7f8d75380530 perm=1'\n",
      "'virAccessManagerCheckNetwork:264:manager=0x7f8d75345d90(name=none) driver=QEMU network=0x7f8d75380530 perm=1'\n",
      "'virAccessManagerCheckNetwork:264:manager=0x7f8d75345ca0(name=stack) driver=QEMU network=0x7f8d753778a0 perm=1'\n",
      "'virAccessManagerCheckNetwork:264:manager=0x7f8d75345d90(name=none) driver=QEMU network=0x7f8d753778a0 perm=1'\n",
      "'virAccessManagerCheckNetwork:264:manager=0x7f8d75345ca0(name=stack) driver=QEMU network=0x7f8d753802d0 perm=0'\n",
      "'virAccessManagerCheckNetwork:264:manager=0x7f8d75345d90(name=none) driver=QEMU network=0x7f8d753802d0 perm=0'\n",
      "'virAccessManagerCheckNetwork:264:manager=0x7f8d75345ca0(name=stack) driver=QEMU network=0x7f8d7537e6e0 perm=0'\n",
      "'virAccessManagerCheckNetwork:264:manager=0x7f8d75345d90(name=none) driver=QEMU network=0x7f8d7537e6e0 perm=0'\n",
      "'virAccessManagerCheckNetwork:264:manager=0x7f8d75345ca0(name=stack) driver=QEMU network=0x7f8d753744c0 perm=0'\n",
      "'virAccessManagerCheckNetwork:264:manager=0x7f8d75345d90(name=none) driver=QEMU network=0x7f8d753744c0 perm=0'\n",
      "'virAccessManagerCheckNetwork:264:manager=0x7f8d75345ca0(name=stack) driver=QEMU network=0x7f8d75380530 perm=0'\n",
      "'virAccessManagerCheckNetwork:264:manager=0x7f8d75345d90(name=none) driver=QEMU network=0x7f8d75380530 perm=0'\n",
      "'virAccessManagerCheckNetwork:264:manager=0x7f8d75345ca0(name=stack) driver=QEMU network=0x7f8d753778a0 perm=0'\n",
      "'virAccessManagerCheckNetwork:264:manager=0x7f8d75345d90(name=none) driver=QEMU network=0x7f8d753778a0 perm=0'\n",
      "'virAccessManagerCheckNetwork:264:manager=0x7f8d75345ca0(name=stack) driver=QEMU network=0x7f8d753802d0 perm=1'\n",
      "'virAccessManagerCheckNetwork:264:manager=0x7f8d75345d90(name=none) driver=QEMU network=0x7f8d753802d0 perm=1'\n",
      "'virAccessManagerCheckNetwork:264:manager=0x7f8d75345ca0(name=stack) driver=QEMU network=0x7f8d753744c0 perm=1'\n",
      "'virAccessManagerCheckNetwork:264:manager=0x7f8d75345d90(name=none) driver=QEMU network=0x7f8d753744c0 perm=1'\n",
      "'virAccessManagerCheckNetwork:264:manager=0x7f8d75345ca0(name=stack) driver=QEMU network=0x7f8d75380530 perm=1'\n",
      "'virAccessManagerCheckNetwork:264:manager=0x7f8d75345d90(name=none) driver=QEMU network=0x7f8d75380530 perm=1'\n",
      "'virAccessManagerCheckNetwork:264:manager=0x7f8d75345ca0(name=stack) driver=QEMU network=0x7f8d753778a0 perm=1'\n",
      "'virAccessManagerCheckNetwork:264:manager=0x7f8d75345d90(name=none) driver=QEMU network=0x7f8d753778a0 perm=1'\n",
      "'virAccessManagerCheckNetwork:264:manager=0x7f8d75345ca0(name=stack) driver=QEMU network=0x7f8d753802d0 perm=0'\n",
      "'virAccessManagerCheckNetwork:264:manager=0x7f8d75345d90(name=none) driver=QEMU network=0x7f8d753802d0 perm=0'\n",
      "'virAccessManagerCheckNetwork:264:manager=0x7f8d75345ca0(name=stack) driver=QEMU network=0x7f8d7537e6e0 perm=0'\n",
      "'virAccessManagerCheckNetwork:264:manager=0x7f8d75345d90(name=none) driver=QEMU network=0x7f8d7537e6e0 perm=0'\n",
      "'virAccessManagerCheckNetwork:264:manager=0x7f8d75345ca0(name=stack) driver=QEMU network=0x7f8d753744c0 perm=0'\n",
      "'virAccessManagerCheckNetwork:264:manager=0x7f8d75345d90(name=none) driver=QEMU network=0x7f8d753744c0 perm=0'\n",
      "'virAccessManagerCheckNetwork:264:manager=0x7f8d75345ca0(name=stack) driver=QEMU network=0x7f8d75380530 perm=0'\n",
      "'virAccessManagerCheckNetwork:264:manager=0x7f8d75345d90(name=none) driver=QEMU network=0x7f8d75380530 perm=0'\n",
      "'virAccessManagerCheckNetwork:264:manager=0x7f8d75345ca0(name=stack) driver=QEMU network=0x7f8d753778a0 perm=0'\n",
      "'virAccessManagerCheckNetwork:264:manager=0x7f8d75345d90(name=none) driver=QEMU network=0x7f8d753778a0 perm=0'\n",
      "'virAccessManagerCheckNetwork:264:manager=0x7f8d75345ca0(name=stack) driver=QEMU network=0x7f8d753802d0 perm=1'\n",
      "'virAccessManagerCheckNetwork:264:manager=0x7f8d75345d90(name=none) driver=QEMU network=0x7f8d753802d0 perm=1'\n",
      "'virAccessManagerCheckNetwork:264:manager=0x7f8d75345ca0(name=stack) driver=QEMU network=0x7f8d753744c0 perm=1'\n",
      "'virAccessManagerCheckNetwork:264:manager=0x7f8d75345d90(name=none) driver=QEMU network=0x7f8d753744c0 perm=1'\n",
      "'virAccessManagerCheckNetwork:264:manager=0x7f8d75345ca0(name=stack) driver=QEMU network=0x7f8d75380530 perm=1'\n",
      "'virAccessManagerCheckNetwork:264:manager=0x7f8d75345d90(name=none) driver=QEMU network=0x7f8d75380530 perm=1'\n",
      "'virAccessManagerCheckNetwork:264:manager=0x7f8d75345ca0(name=stack) driver=QEMU network=0x7f8d753778a0 perm=1'\n",
      "'virAccessManagerCheckNetwork:264:manager=0x7f8d75345d90(name=none) driver=QEMU network=0x7f8d753778a0 perm=1'\n",
      "'virAccessManagerCheckNetwork:264:manager=0x7f8d75345ca0(name=stack) driver=QEMU network=0x7f8d753802d0 perm=0'\n",
      "'virAccessManagerCheckNetwork:264:manager=0x7f8d75345d90(name=none) driver=QEMU network=0x7f8d753802d0 perm=0'\n",
      "'virAccessManagerCheckNetwork:264:manager=0x7f8d75345ca0(name=stack) driver=QEMU network=0x7f8d7537e6e0 perm=0'\n",
      "'virAccessManagerCheckNetwork:264:manager=0x7f8d75345d90(name=none) driver=QEMU network=0x7f8d7537e6e0 perm=0'\n",
      "'virAccessManagerCheckNetwork:264:manager=0x7f8d75345ca0(name=stack) driver=QEMU network=0x7f8d753744c0 perm=0'\n",
      "'virAccessManagerCheckNetwork:264:manager=0x7f8d75345d90(name=none) driver=QEMU network=0x7f8d753744c0 perm=0'\n",
      "'virAccessManagerCheckNetwork:264:manager=0x7f8d75345ca0(name=stack) driver=QEMU network=0x7f8d75380530 perm=0'\n",
      "'virAccessManagerCheckNetwork:264:manager=0x7f8d75345d90(name=none) driver=QEMU network=0x7f8d75380530 perm=0'\n",
      "'virAccessManagerCheckNetwork:264:manager=0x7f8d75345ca0(name=stack) driver=QEMU network=0x7f8d753778a0 perm=0'\n",
      "'virAccessManagerCheckNetwork:264:manager=0x7f8d75345d90(name=none) driver=QEMU network=0x7f8d753778a0 perm=0'\n",
      "'virAccessManagerCheckNetwork:264:manager=0x7f8d75345ca0(name=stack) driver=QEMU network=0x7f8d753802d0 perm=1'\n",
      "'virAccessManagerCheckNetwork:264:manager=0x7f8d75345d90(name=none) driver=QEMU network=0x7f8d753802d0 perm=1'\n",
      "'virAccessManagerCheckNetwork:264:manager=0x7f8d75345ca0(name=stack) driver=QEMU network=0x7f8d753744c0 perm=1'\n",
      "'virAccessManagerCheckNetwork:264:manager=0x7f8d75345d90(name=none) driver=QEMU network=0x7f8d753744c0 perm=1'\n",
      "'virAccessManagerCheckNetwork:264:manager=0x7f8d75345ca0(name=stack) driver=QEMU network=0x7f8d75380530 perm=1'\n",
      "'virAccessManagerCheckNetwork:264:manager=0x7f8d75345d90(name=none) driver=QEMU network=0x7f8d75380530 perm=1'\n",
      "'virAccessManagerCheckNetwork:264:manager=0x7f8d75345ca0(name=stack) driver=QEMU network=0x7f8d753778a0 perm=1'\n",
      "'virAccessManagerCheckNetwork:264:manager=0x7f8d75345d90(name=none) driver=QEMU network=0x7f8d753778a0 perm=1'\n"
     ]
    }
   ],
   "source": [
    "for line in df.query(\"level == 'debug' and suspicious_level != 'Good' and msg_type == 'virAccessManagerCheckNetwork'\").msg:\n",
    "    print(repr(str(line)))"
   ]
  },
  {
   "cell_type": "code",
   "execution_count": 12,
   "metadata": {
    "collapsed": false,
    "deletable": true,
    "editable": true,
    "scrolled": false
   },
   "outputs": [
    {
     "name": "stdout",
     "output_type": "stream",
     "text": [
      "\"udevRemoveOneDevice:1039:Failed to find device to remove that has udev name '/sys/devices/virtual/net/vnet0/queues/rx-0'\"\n",
      "\"udevRemoveOneDevice:1039:Failed to find device to remove that has udev name '/sys/devices/virtual/net/vnet0/queues/tx-0'\"\n",
      "\"udevRemoveOneDevice:1039:Failed to find device to remove that has udev name '/sys/devices/virtual/net/vnet1/queues/rx-0'\"\n",
      "\"udevRemoveOneDevice:1039:Failed to find device to remove that has udev name '/sys/devices/virtual/net/vnet1/queues/tx-0'\"\n"
     ]
    }
   ],
   "source": [
    "#\"invalid\"\n",
    "#\"not \"\n",
    "#\"doesn't\"\n",
    "for line in df.query(\"suspicious_level == 'Unknown message type'\").msg:\n",
    "    if re.search(r\"fail\", str(line), re.IGNORECASE):\n",
    "        print(repr(str(line)))"
   ]
  },
  {
   "cell_type": "code",
   "execution_count": 13,
   "metadata": {
    "collapsed": false,
    "deletable": true,
    "editable": true
   },
   "outputs": [
    {
     "name": "stdout",
     "output_type": "stream",
     "text": [
      "\u001b[31m 2017-03-07 06:33:32.770000+0000: 30198: info: virDBusCall:1558:DBUS_METHOD_ERROR:'org.freedesktop.machine1.Manager.TerminateMachine' on '/org/freedesktop/machine1' at 'org.freedesktop.machine1' error org.freedesktop.machine1.NoSuchMachine:No machine 'qemu-9-VM1' known \u001b[0m\n",
      "\u001b[31m 2017-03-07 06:33:55.810000+0000: 30195: info: virSecuritySELinuxSetFileconHelper:938:Setting security context 'system_u:object_r:svirt_image_t:s0:c23,c572' on '/rhev/data-center/74dd8b69-7211-4914-9a5f-3d64162eacfd/4638f290-c6b3-45d1-b860-d4665f3d92cc/images/d2a0f96b-6586-4569-be7d-40e3b74c68f2/9b50a4cc-68da-45e1-991d-7fd8efdc4b68' not supported \u001b[0m\n",
      "\u001b[31m 2017-03-07 07:12:24.012000+0000: 30196: info: virDBusCall:1558:DBUS_METHOD_ERROR:'org.freedesktop.machine1.Manager.TerminateMachine' on '/org/freedesktop/machine1' at 'org.freedesktop.machine1' error org.freedesktop.machine1.NoSuchMachine:No machine 'qemu-10-VM3' known \u001b[0m\n",
      "\u001b[31m 2017-03-07 07:25:40.749000+0000: 30197: info: virSecuritySELinuxSetFileconHelper:938:Setting security context 'system_u:object_r:svirt_image_t:s0:c411,c565' on '/rhev/data-center/74dd8b69-7211-4914-9a5f-3d64162eacfd/4638f290-c6b3-45d1-b860-d4665f3d92cc/images/77506a50-ed71-4500-8ab5-4ddd7f318ad5/a1546bcb-46ab-4c84-85df-b12ecc512a0e' not supported \u001b[0m\n",
      "\u001b[31m 2017-03-07 07:27:35.573000+0000: 30199: info: virSecuritySELinuxSetFileconHelper:938:Setting security context 'system_u:object_r:svirt_image_t:s0:c739,c936' on '/rhev/data-center/74dd8b69-7211-4914-9a5f-3d64162eacfd/4638f290-c6b3-45d1-b860-d4665f3d92cc/images/c32c2f0f-cab8-4e80-ade1-1acb97a6a7bf/ca6f44b7-a796-4eeb-8ce8-f613bda5f862' not supported \u001b[0m\n"
     ]
    }
   ],
   "source": [
    "for line in df.query(\n",
    "    'type == \"info\" and suspicious_level == \"Unmatch normal\"'\n",
    ").apply(\n",
    "    lambda x: ': '.join(\n",
    "        [\n",
    "            x['date'].strftime(\"%Y-%m-%d %H:%M:%S.%f%z\"),\n",
    "            x['thread'],\n",
    "            x['type'],\n",
    "            str(x['msg'])\n",
    "        ]\n",
    "    ), \n",
    "    axis=1\n",
    "):\n",
    "    print('\\x1b[31m', line, '\\x1b[0m')"
   ]
  },
  {
   "cell_type": "code",
   "execution_count": 14,
   "metadata": {
    "collapsed": false,
    "deletable": true,
    "editable": true
   },
   "outputs": [
    {
     "data": {
      "image/png": "[encoded data removed]",
      "text/plain": [
       "<matplotlib.figure.Figure at 0x7ff56d937278>"
      ]
     },
     "metadata": {},
     "output_type": "display_data"
    }
   ],
   "source": [
    "threads = set([log.thread for log in logs if log.thread > '30000'])\n",
    "\n",
    "pyplot.figure(figsize=(18, 25))\n",
    "for i, thread in enumerate(threads):\n",
    "    pyplot.subplot((len(threads) + 2) // 3, 3, i + 1)\n",
    "    pyplot.yscale('log')\n",
    "    pyplot.title(thread)\n",
    "    pyplot.hist((numpy.diff(df.query(\"thread == '\" + thread + \"'\").date.as_matrix().astype(int))), bins=100)"
   ]
  },
  {
   "cell_type": "code",
   "execution_count": 86,
   "metadata": {
    "collapsed": false,
    "deletable": true,
    "editable": true
   },
   "outputs": [],
   "source": [
    "for line in df.query('error_contains == True and suspicious_level == \"Good\" and msg_type != \"qemuMonitorIOProcess\"').msg:\n",
    "    print(line)\n",
    "    break"
   ]
  },
  {
   "cell_type": "code",
   "execution_count": null,
   "metadata": {
    "collapsed": true
   },
   "outputs": [],
   "source": []
  }
 ],
 "metadata": {
  "kernelspec": {
   "display_name": "Python 3",
   "language": "python",
   "name": "python3"
  },
  "language_info": {
   "codemirror_mode": {
    "name": "ipython",
    "version": 3
   },
   "file_extension": ".py",
   "mimetype": "text/x-python",
   "name": "python",
   "nbconvert_exporter": "python",
   "pygments_lexer": "ipython3",
   "version": "3.4.5"
  }
 },
 "nbformat": 4,
 "nbformat_minor": 2
}
